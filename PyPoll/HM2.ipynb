{
 "cells": [
  {
   "cell_type": "code",
   "execution_count": 178,
   "metadata": {},
   "outputs": [],
   "source": [
    "import numpy as np\n",
    "import pandas as pd\n",
    "from collections import Counter\n",
    "df1= pd.read_csv(\"election_data_1.csv\")"
   ]
  },
  {
   "cell_type": "code",
   "execution_count": 213,
   "metadata": {},
   "outputs": [
    {
     "name": "stdout",
     "output_type": "stream",
     "text": [
      "[('Vestal', 385440, 0.48), ('Torres', 353320, 0.44), ('Seth', 40150, 0.05), ('Cordin', 24090, 0.03)]\n",
      "803000\n",
      "Vestal\n"
     ]
    }
   ],
   "source": [
    "#Code for the first file\n",
    "\n",
    "\n",
    "votes = Counter(df1.Candidate).most_common()\n",
    "total_votes = sum([x[1] for x in votes])\n",
    "updated = [(x[0], x[1], x[1]/total_votes) for x in votes]\n",
    "print(updated)\n",
    "print(total_votes)\n",
    "winner = updated[0][0]\n",
    "print(winner)"
   ]
  },
  {
   "cell_type": "code",
   "execution_count": 186,
   "metadata": {},
   "outputs": [],
   "source": [
    "with open('elect1_results.txt' ,'w') as f:\n",
    "    f.write(\"The Winner Is: {} \\n\".format(winner))\n",
    "    f.write(\"------------------------------- \\n\")\n",
    "    for row in updated:\n",
    "        name, votes, pct = row\n",
    "        f.write(\"Candidate: {}   Votes Received: {}   Pct Vote: {} \\n\".format(name, votes, pct)   )"
   ]
  },
  {
   "cell_type": "code",
   "execution_count": 187,
   "metadata": {},
   "outputs": [
    {
     "name": "stdout",
     "output_type": "stream",
     "text": [
      "The Winner Is: Vestal \n",
      "------------------------------- \n",
      "Candidate: Vestal   Votes Received: 385440   Pct Vote: 0.48 \n",
      "Candidate: Torres   Votes Received: 353320   Pct Vote: 0.44 \n",
      "Candidate: Seth   Votes Received: 40150   Pct Vote: 0.05 \n",
      "Candidate: Cordin   Votes Received: 24090   Pct Vote: 0.03 \n",
      "\n"
     ]
    }
   ],
   "source": [
    "with open('elect1_results.txt') as f:\n",
    "    print(f.read())"
   ]
  },
  {
   "cell_type": "code",
   "execution_count": null,
   "metadata": {},
   "outputs": [],
   "source": []
  },
  {
   "cell_type": "code",
   "execution_count": 214,
   "metadata": {},
   "outputs": [
    {
     "name": "stdout",
     "output_type": "stream",
     "text": [
      "[('Khan', 2218231, '0.63'), ('Correy', 704200, '0.20'), ('Li', 492940, '0.14'), (\"O'Tooley\", 105630, '0.03')]\n",
      "3521001\n",
      "Khan\n"
     ]
    }
   ],
   "source": [
    "# Code for the second file\n",
    "\n",
    "\n",
    "df2= pd.read_csv(\"election_data_2.csv\")\n",
    "votes = Counter(df2.Candidate).most_common()\n",
    "total_votes = sum([x[1] for x in votes])\n",
    "updated = [(x[0], x[1], x[1]/total_votes) for x in votes]\n",
    "updated1 = [(x[0], x[1],'%.2f' % x[2]) for x in updated]\n",
    "print(updated1)\n",
    "print(total_votes)\n",
    "winner = updated1[0][0]\n",
    "print(winner)\n"
   ]
  },
  {
   "cell_type": "code",
   "execution_count": 219,
   "metadata": {},
   "outputs": [],
   "source": [
    "with open('elect2_results.txt' ,'w') as f:\n",
    "    f.write(\"The Winner Is: {} \\n\".format(winner))\n",
    "    f.write(\"------------------------------- \\n\")\n",
    "    for row in updated1:\n",
    "        name, votes, pct = row\n",
    "        f.write(\"Candidate: {}   Votes Received: {}   Pct Vote: {} \\n\".format(name, votes, pct)   )"
   ]
  },
  {
   "cell_type": "code",
   "execution_count": 220,
   "metadata": {},
   "outputs": [
    {
     "name": "stdout",
     "output_type": "stream",
     "text": [
      "The Winner Is: Khan \n",
      "------------------------------- \n",
      "Candidate: Khan   Votes Received: 2218231   Pct Vote: 0.63 \n",
      "Candidate: Correy   Votes Received: 704200   Pct Vote: 0.20 \n",
      "Candidate: Li   Votes Received: 492940   Pct Vote: 0.14 \n",
      "Candidate: O'Tooley   Votes Received: 105630   Pct Vote: 0.03 \n",
      "\n"
     ]
    }
   ],
   "source": [
    "with open('elect2_results.txt') as f:\n",
    "    print(f.read())"
   ]
  },
  {
   "cell_type": "code",
   "execution_count": 151,
   "metadata": {},
   "outputs": [
    {
     "name": "stdout",
     "output_type": "stream",
     "text": [
      "-> Election Results\n",
      "Total Votes: 803000\n",
      " [('Vestal', 385440, 0.48), ('Torres', 353320, 0.44), ('Seth', 40150, 0.05), ('Cordin', 24090, 0.03)]\n",
      "Winner: Vestal\n"
     ]
    }
   ],
   "source": [
    "\n",
    "#Please do not grade the code below -------------------------------------------------------------\n",
    "\n",
    "df1.head()\n",
    "Total_votes = df1['Voter ID'].count()\n",
    "Total_votes\n",
    "ok = df1['Candidate'].unique()\n",
    "ok = list(ok)\n",
    "ok2 = df1['Candidate'].value_counts()\n",
    "ok3 =  (ok2 / Total_votes)\n",
    "ok3 = list(ok3)\n",
    "ok2 = df1['Candidate'].value_counts()\n",
    "ok2 = list(ok2)\n",
    "list1= [ok]\n",
    "list2= [ok2]        \n",
    "list3=[ok3]\n",
    "myzip= zip(ok, ok2, ok3)\n",
    "items = df1[\"Candidate\"]\n",
    "winner = Counter(items).most_common(1)[0]\n",
    "ok = (str(winner))\n",
    "\n",
    "\n",
    "result2 = {}\n",
    "result2[\"->\"]= \"Election Results\"\n",
    "result2[\"Total Votes:\"]= Total_votes\n",
    "result2[\"\"]= list(myzip)\n",
    "result2[\"Winner:\"]= winner[0]\n",
    "\n",
    "\n",
    "with open('election_results1.txt', 'w') as f:\n",
    "    for item in result2.items():\n",
    "            a, b = item\n",
    "            print(a,b)\n",
    "            f.write(\"Candidate: {}   Votes: {}\".format(a,b))\n",
    "\n"
   ]
  },
  {
   "cell_type": "code",
   "execution_count": 155,
   "metadata": {},
   "outputs": [
    {
     "data": {
      "text/plain": [
       "dict_keys(['->', 'Total Votes:', '', 'Winner:'])"
      ]
     },
     "execution_count": 155,
     "metadata": {},
     "output_type": "execute_result"
    }
   ],
   "source": [
    "result2.keys()"
   ]
  },
  {
   "cell_type": "code",
   "execution_count": 153,
   "metadata": {},
   "outputs": [
    {
     "name": "stdout",
     "output_type": "stream",
     "text": [
      "Candidate: ->   Votes: Election ResultsCandidate: Total Votes:   Votes: 803000Candidate:    Votes: [('Vestal', 385440, 0.48), ('Torres', 353320, 0.44), ('Seth', 40150, 0.05), ('Cordin', 24090, 0.03)]Candidate: Winner:   Votes: Vestal\n"
     ]
    }
   ],
   "source": [
    "with open('election_results1.txt') as f:\n",
    "    _test = f.read()\n",
    "print(_test)"
   ]
  },
  {
   "cell_type": "code",
   "execution_count": 32,
   "metadata": {},
   "outputs": [
    {
     "data": {
      "text/plain": [
       "803000"
      ]
     },
     "execution_count": 32,
     "metadata": {},
     "output_type": "execute_result"
    }
   ],
   "source": [
    "Total_votes = df1['Voter ID'].count()\n",
    "Total_votes"
   ]
  },
  {
   "cell_type": "code",
   "execution_count": 33,
   "metadata": {},
   "outputs": [
    {
     "data": {
      "text/plain": [
       "['Vestal', 'Torres', 'Seth', 'Cordin']"
      ]
     },
     "execution_count": 33,
     "metadata": {},
     "output_type": "execute_result"
    }
   ],
   "source": [
    "ok = df1['Candidate'].unique()\n",
    "ok = list(ok)\n",
    "ok"
   ]
  },
  {
   "cell_type": "code",
   "execution_count": 126,
   "metadata": {},
   "outputs": [
    {
     "data": {
      "text/plain": [
       "Vestal    0.48\n",
       "Torres    0.44\n",
       "Seth      0.05\n",
       "Cordin    0.03\n",
       "Name: Candidate, dtype: float64"
      ]
     },
     "execution_count": 126,
     "metadata": {},
     "output_type": "execute_result"
    }
   ],
   "source": [
    "\n",
    "ok3 =  (ok2 / Total_votes)\n",
    "\n",
    "ok3\n",
    "\n",
    "#ok3 = list(ok3)\n",
    "#ok3"
   ]
  },
  {
   "cell_type": "code",
   "execution_count": 36,
   "metadata": {},
   "outputs": [
    {
     "data": {
      "text/plain": [
       "[385440, 353320, 40150, 24090]"
      ]
     },
     "execution_count": 36,
     "metadata": {},
     "output_type": "execute_result"
    }
   ],
   "source": [
    "ok2 = df1['Candidate'].value_counts()\n",
    "ok2 = list(ok2)\n",
    "ok2"
   ]
  },
  {
   "cell_type": "code",
   "execution_count": 40,
   "metadata": {},
   "outputs": [],
   "source": [
    "list1= [ok]\n",
    "list2= [ok2]        \n",
    "list3=[ok3]\n",
    "\n",
    "myzip= zip(ok, ok2, ok3)\n",
    "\n"
   ]
  },
  {
   "cell_type": "code",
   "execution_count": 60,
   "metadata": {},
   "outputs": [
    {
     "name": "stdout",
     "output_type": "stream",
     "text": [
      "('Vestal', 385440)\n"
     ]
    }
   ],
   "source": [
    "items = df1[\"Candidate\"]\n",
    "winner = Counter(items).most_common(1)[0]\n",
    "ok = (str(winner))\n",
    "\n",
    "print(ok)\n",
    "\n"
   ]
  },
  {
   "cell_type": "code",
   "execution_count": 37,
   "metadata": {},
   "outputs": [
    {
     "data": {
      "text/plain": [
       "Voter ID      int64\n",
       "County       object\n",
       "Candidate    object\n",
       "dtype: object"
      ]
     },
     "execution_count": 37,
     "metadata": {},
     "output_type": "execute_result"
    }
   ],
   "source": [
    "df1.dtypes"
   ]
  },
  {
   "cell_type": "code",
   "execution_count": 41,
   "metadata": {},
   "outputs": [
    {
     "name": "stdout",
     "output_type": "stream",
     "text": [
      "-> Election Results\n",
      "Total Votes: 803000\n",
      " [('Vestal', 385440, 0.48), ('Torres', 353320, 0.44), ('Seth', 40150, 0.05), ('Cordin', 24090, 0.03)]\n",
      "Winner: ('Vestal', 385440)\n"
     ]
    }
   ],
   "source": [
    "\n",
    "result2 = {}\n",
    "\n",
    "result2[\"->\"]= \"Election Results\"\n",
    "result2[\"Total Votes:\"]= Total_votes\n",
    "result2[\"\"]= list(myzip)\n",
    "result2[\"Winner:\"]= winner\n",
    "\n",
    "for item in result2.items():\n",
    "        a, b = item\n",
    "        print(a,b)\n"
   ]
  },
  {
   "cell_type": "code",
   "execution_count": 59,
   "metadata": {},
   "outputs": [
    {
     "name": "stdout",
     "output_type": "stream",
     "text": [
      "('Vestal', 385440)\n"
     ]
    }
   ],
   "source": []
  },
  {
   "cell_type": "code",
   "execution_count": 93,
   "metadata": {},
   "outputs": [],
   "source": [
    "import numpy as np\n",
    "import pandas as pd\n",
    "from collections import Counter\n",
    "df2= pd.read_csv(\"election_data_2.csv\")"
   ]
  },
  {
   "cell_type": "code",
   "execution_count": 138,
   "metadata": {},
   "outputs": [
    {
     "name": "stdout",
     "output_type": "stream",
     "text": [
      "-> Election Results\n",
      "Total Votes: 3521001\n",
      " [('Khan', 2218231, '0.63'), ('Correy', 704200, '0.20'), ('Li', 492940, '0.14'), (\"O'Tooley\", 105630, '0.03')]\n",
      "Winner: Khan\n"
     ]
    }
   ],
   "source": [
    "df2.head()\n",
    "Total_votes_2 = df2['Voter ID'].count()\n",
    "Total_votes_2\n",
    "ok_1 = df2['Candidate'].unique()\n",
    "ok_1 = list(ok_1)\n",
    "ok2_1 = df2['Candidate'].value_counts()\n",
    "ok3_1 =  (ok2_1 / Total_votes_2)\n",
    "ok3_1 = list(ok3_1)\n",
    "ok4 = [ '%.2f' % elem for elem in ok3_1 ]\n",
    "ok2_1 = df2['Candidate'].value_counts()\n",
    "ok2_1 = list(ok2_1)\n",
    "myzip_2= zip(ok_1, ok2_1, ok4)\n",
    "items_2 = df2[\"Candidate\"]\n",
    "winner_2 = Counter(items_2).most_common(1)[0]\n",
    "result2 = {}\n",
    "result2[\"->\"]= \"Election Results\"\n",
    "result2[\"Total Votes:\"]= Total_votes_2\n",
    "result2[\"\"]= list(myzip_2)\n",
    "result2[\"Winner:\"]= winner_2[0]\n",
    "\n",
    "for item in result2.items():\n",
    "        a, b = item\n",
    "        print(a,b)"
   ]
  },
  {
   "cell_type": "code",
   "execution_count": 145,
   "metadata": {},
   "outputs": [
    {
     "data": {
      "text/plain": [
       "Voter ID      int64\n",
       "County       object\n",
       "Candidate    object\n",
       "dtype: object"
      ]
     },
     "execution_count": 145,
     "metadata": {},
     "output_type": "execute_result"
    }
   ],
   "source": [
    "df2.dtypes"
   ]
  },
  {
   "cell_type": "code",
   "execution_count": 211,
   "metadata": {},
   "outputs": [
    {
     "name": "stdout",
     "output_type": "stream",
     "text": [
      "[('Khan', 2218231, '0.63'), ('Correy', 704200, '0.20'), ('Li', 492940, '0.14'), (\"O'Tooley\", 105630, '0.03')]\n",
      "3521001\n",
      "Khan\n"
     ]
    }
   ],
   "source": []
  },
  {
   "cell_type": "code",
   "execution_count": 201,
   "metadata": {},
   "outputs": [],
   "source": [
    "\n",
    "        "
   ]
  },
  {
   "cell_type": "code",
   "execution_count": 202,
   "metadata": {},
   "outputs": [
    {
     "name": "stdout",
     "output_type": "stream",
     "text": [
      "The Winner Is: Khan \n",
      "------------------------------- \n",
      "Candidate: Khan   Votes Received: 2218231   Pct Vote: 0.6300001050837531 \n",
      "Candidate: Correy   Votes Received: 704200   Pct Vote: 0.19999994319797126 \n",
      "Candidate: Li   Votes Received: 492940   Pct Vote: 0.13999996023857988 \n",
      "Candidate: O'Tooley   Votes Received: 105630   Pct Vote: 0.02999999147969569 \n",
      "\n"
     ]
    }
   ],
   "source": []
  },
  {
   "cell_type": "code",
   "execution_count": 205,
   "metadata": {},
   "outputs": [],
   "source": [
    "df2= pd.read_csv(\"election_data_2.csv\")\n",
    "votes = Counter(df2.Candidate)"
   ]
  },
  {
   "cell_type": "code",
   "execution_count": 207,
   "metadata": {},
   "outputs": [
    {
     "data": {
      "text/plain": [
       "Counter({'Correy': 704200, 'Khan': 2218231, 'Li': 492940, \"O'Tooley\": 105630})"
      ]
     },
     "execution_count": 207,
     "metadata": {},
     "output_type": "execute_result"
    }
   ],
   "source": [
    "votes"
   ]
  },
  {
   "cell_type": "code",
   "execution_count": null,
   "metadata": {},
   "outputs": [],
   "source": []
  }
 ],
 "metadata": {
  "kernelspec": {
   "display_name": "Python 3",
   "language": "python",
   "name": "python3"
  },
  "language_info": {
   "codemirror_mode": {
    "name": "ipython",
    "version": 3
   },
   "file_extension": ".py",
   "mimetype": "text/x-python",
   "name": "python",
   "nbconvert_exporter": "python",
   "pygments_lexer": "ipython3",
   "version": "3.6.4"
  }
 },
 "nbformat": 4,
 "nbformat_minor": 2
}
