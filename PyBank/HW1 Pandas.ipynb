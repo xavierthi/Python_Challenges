{
 "cells": [
  {
   "cell_type": "code",
   "execution_count": 141,
   "metadata": {},
   "outputs": [
    {
     "name": "stdout",
     "output_type": "stream",
     "text": [
      "Total Months: 41\n",
      "Total Revenue: $ 18971412\n",
      "Average Revenue Change: $ 462717\n",
      "Greatest Increase in Revenue: Sep-15 ($ 1195111 )\n",
      "Greatest Decrease in Revenue Aug-14 ($ -1172384 )\n"
     ]
    }
   ],
   "source": [
    "import pandas as pd\n",
    "\n",
    "df1= pd.read_csv(\"budget_data_1.csv\")\n",
    "#df2= pd.read_csv(\"budget_data_2.csv\")\n",
    "#df1['Month'] = df1['Date'].map(lambda x: x.split(\"-\")[0])\n",
    "#df1['Year'] = df1['Date'].map(lambda x: x.split(\"-\")[1])\n",
    "months = df1[\"Date\"].count()\n",
    "revenue1= df1[\"Revenue\"].sum()\n",
    "ave= df1[\"Revenue\"].mean()\n",
    "ave1 = round(int(ave))\n",
    "Max_reve= df1[\"Revenue\"].max()\n",
    "Min_reve= df1[\"Revenue\"].min()\n",
    "\n",
    "Mini_revenue = df1['Revenue'] #.tolist()\n",
    "Max_date = df1['Date'] #.tolist()\n",
    "\n",
    "ok_Minidate = dict(zip(Mini_revenue, Max_date)).get(Min_reve,\"\")\n",
    "ok_Max_date = dict(zip(Mini_revenue, Max_date)).get(Max_reve,\"\")\n",
    "\n",
    "\n",
    "print(\"Total Months:\", months)\n",
    "print(\"Total Revenue:\",\"$\",revenue1)\n",
    "print(\"Average Revenue Change:\",\"$\",ave1)\n",
    "print(\"Greatest Increase in Revenue:\",ok_Max_date,\"($\",Max_reve,\")\")\n",
    "print(\"Greatest Decrease in Revenue\",ok_Minidate,\"($\",Min_reve,\")\")\n"
   ]
  },
  {
   "cell_type": "code",
   "execution_count": 146,
   "metadata": {},
   "outputs": [],
   "source": [
    "with open('pybank_results.txt' ,'w') as f:\n",
    "    #f.write(\"Total Months: {} \\n\".format(months))\n",
    "    #f.write(\"The Winner Is: {} \\n\".format(winner))\n",
    "    #f.write(\"------------------------------- \\n\")\n",
    "    f.write(\"Total Months: \" + str(months) + \"\\n\")\n",
    "    f.write(\"Total Revenue: ${} \\n\".format(revenue1))\n",
    "    f.write(\"Average Revenue Change: ${} \\n\".format(ave1))\n",
    "    f.write(\"Greatest Increase in Revenue:{} ${}\\n\".format(ok_Max_date, Max_reve))\n",
    "    f.write(\"Greatest Decrease in Revenue{} ${}\\n\".format(ok_Minidate, Min_reve))\n"
   ]
  },
  {
   "cell_type": "code",
   "execution_count": 115,
   "metadata": {},
   "outputs": [
    {
     "data": {
      "text/html": [
       "<div>\n",
       "<style scoped>\n",
       "    .dataframe tbody tr th:only-of-type {\n",
       "        vertical-align: middle;\n",
       "    }\n",
       "\n",
       "    .dataframe tbody tr th {\n",
       "        vertical-align: top;\n",
       "    }\n",
       "\n",
       "    .dataframe thead th {\n",
       "        text-align: right;\n",
       "    }\n",
       "</style>\n",
       "<table border=\"1\" class=\"dataframe\">\n",
       "  <thead>\n",
       "    <tr style=\"text-align: right;\">\n",
       "      <th></th>\n",
       "      <th>Date</th>\n",
       "      <th>Revenue</th>\n",
       "    </tr>\n",
       "  </thead>\n",
       "  <tbody>\n",
       "    <tr>\n",
       "      <th>0</th>\n",
       "      <td>Oct-12</td>\n",
       "      <td>1154293</td>\n",
       "    </tr>\n",
       "    <tr>\n",
       "      <th>1</th>\n",
       "      <td>Nov-12</td>\n",
       "      <td>885773</td>\n",
       "    </tr>\n",
       "    <tr>\n",
       "      <th>2</th>\n",
       "      <td>Dec-12</td>\n",
       "      <td>-448704</td>\n",
       "    </tr>\n",
       "    <tr>\n",
       "      <th>3</th>\n",
       "      <td>Jan-13</td>\n",
       "      <td>563679</td>\n",
       "    </tr>\n",
       "    <tr>\n",
       "      <th>4</th>\n",
       "      <td>Feb-13</td>\n",
       "      <td>555394</td>\n",
       "    </tr>\n",
       "  </tbody>\n",
       "</table>\n",
       "</div>"
      ],
      "text/plain": [
       "     Date  Revenue\n",
       "0  Oct-12  1154293\n",
       "1  Nov-12   885773\n",
       "2  Dec-12  -448704\n",
       "3  Jan-13   563679\n",
       "4  Feb-13   555394"
      ]
     },
     "execution_count": 115,
     "metadata": {},
     "output_type": "execute_result"
    }
   ],
   "source": [
    "df1.head()"
   ]
  },
  {
   "cell_type": "code",
   "execution_count": 120,
   "metadata": {},
   "outputs": [],
   "source": [
    "df10= pd.read_csv(\"budget_data_1.csv\")"
   ]
  },
  {
   "cell_type": "code",
   "execution_count": 136,
   "metadata": {},
   "outputs": [
    {
     "data": {
      "text/plain": [
       "41"
      ]
     },
     "execution_count": 136,
     "metadata": {},
     "output_type": "execute_result"
    }
   ],
   "source": [
    "df10.shape[0]"
   ]
  },
  {
   "cell_type": "code",
   "execution_count": 131,
   "metadata": {},
   "outputs": [
    {
     "data": {
      "text/plain": [
       "Counter({'Apr-13': 1,\n",
       "         'Apr-14': 1,\n",
       "         'Apr-15': 1,\n",
       "         'Aug-13': 1,\n",
       "         'Aug-14': 1,\n",
       "         'Aug-15': 1,\n",
       "         'Dec-12': 1,\n",
       "         'Dec-13': 1,\n",
       "         'Dec-14': 1,\n",
       "         'Dec-15': 1,\n",
       "         'Feb-13': 1,\n",
       "         'Feb-14': 1,\n",
       "         'Feb-15': 1,\n",
       "         'Feb-16': 1,\n",
       "         'Jan-13': 1,\n",
       "         'Jan-14': 1,\n",
       "         'Jan-15': 1,\n",
       "         'Jan-16': 1,\n",
       "         'Jul-13': 1,\n",
       "         'Jul-14': 1,\n",
       "         'Jul-15': 1,\n",
       "         'Jun-13': 1,\n",
       "         'Jun-14': 1,\n",
       "         'Jun-15': 1,\n",
       "         'Mar-13': 1,\n",
       "         'Mar-14': 1,\n",
       "         'Mar-15': 1,\n",
       "         'May-13': 1,\n",
       "         'May-14': 1,\n",
       "         'May-15': 1,\n",
       "         'Nov-12': 1,\n",
       "         'Nov-13': 1,\n",
       "         'Nov-14': 1,\n",
       "         'Nov-15': 1,\n",
       "         'Oct-12': 1,\n",
       "         'Oct-13': 1,\n",
       "         'Oct-14': 1,\n",
       "         'Oct-15': 1,\n",
       "         'Sep-13': 1,\n",
       "         'Sep-14': 1,\n",
       "         'Sep-15': 1})"
      ]
     },
     "execution_count": 131,
     "metadata": {},
     "output_type": "execute_result"
    }
   ],
   "source": [
    "import pandas as pd\n",
    "import numpy as np\n",
    "from collections import Counter\n",
    "\n",
    "df10= pd.read_csv(\"budget_data_1.csv\")\n",
    "months_1 = Counter(df10.Date) #.most_common()\n",
    "months_1\n",
    "total_months = sum([x[1] for x in months_1])\n",
    "total_months\n",
    "\n",
    "#total_votes = sum([x[1] for x in votes])\n",
    "#updated = [(x[0], x[1], x[1]/total_votes) for x in votes]\n",
    "#print(updated)\n",
    "#print(total_votes)\n",
    "#winner = updated[0][0]\n",
    "#print(winner)"
   ]
  },
  {
   "cell_type": "code",
   "execution_count": null,
   "metadata": {},
   "outputs": [],
   "source": [
    "df."
   ]
  },
  {
   "cell_type": "code",
   "execution_count": 587,
   "metadata": {},
   "outputs": [
    {
     "name": "stdout",
     "output_type": "stream",
     "text": [
      "Total Months: 41\n",
      "Average Revenue Change: $ 462717\n",
      "Total Revenue: $ 18971412\n",
      "Greatest Increase in Revenue: ['Sep-15', 1195111]\n",
      "Greatest Decrease in Revenue ['Aug-14', -1172384]\n"
     ]
    }
   ],
   "source": [
    "\n",
    "result = {}\n",
    "\n",
    "result[\"Total Months:\"]= months\n",
    "result[\"Average Revenue Change: $\"]=ave1\n",
    "result[\"Total Revenue: $\"]=revenue1\n",
    "result[\"Greatest Increase in Revenue:\"]= [ok_Max_date, Max_reve]\n",
    "result[\"Greatest Decrease in Revenue\"] = [ok_Minidate, Min_reve]\n",
    "\n",
    "result\n",
    "\n",
    "\n",
    "for item in result.items():\n",
    "        a, b = item\n",
    "        print(a,b)\n",
    "\n",
    "\n"
   ]
  },
  {
   "cell_type": "code",
   "execution_count": 52,
   "metadata": {},
   "outputs": [
    {
     "name": "stdout",
     "output_type": "stream",
     "text": [
      "Total Months: 86\n",
      "Total Revenue:$ 36973911\n",
      "Average Revenue Change: $ 429929\n",
      "Greatest Increase in Revenue: Mar-18 ($ 1141606 )\n",
      "Greatest Decrease in Revenue Sep-18 ($ -1063151 )\n"
     ]
    }
   ],
   "source": [
    "import pandas as pd\n",
    "import numpy as np\n",
    "\n",
    "#df2= pd.read_csv(\"budget_data_1.csv\")\n",
    "df2= pd.read_csv(\"budget_data_2.csv\")\n",
    "#df1['Month'] = df1['Date'].map(lambda x: x.split(\"-\")[0])\n",
    "#df1['Year'] = df1['Date'].map(lambda x: x.split(\"-\")[1])\n",
    "months2 = df2[\"Date\"].count()\n",
    "revenue2= df2[\"Revenue\"].sum()\n",
    "ave2= df2[\"Revenue\"].mean()\n",
    "ave22 = round(int(ave2))\n",
    "Max_reve2= df2[\"Revenue\"].max()\n",
    "Min_reve2= df2[\"Revenue\"].min()\n",
    "\n",
    "Mini_revenue2 = df2['Revenue'] #.tolist()\n",
    "Max_date2 = df2['Date'] #.tolist()\n",
    "\n",
    "ok_Minidate2 = dict(zip(Mini_revenue2, Max_date2)).get(Min_reve2,\"\")\n",
    "ok_Max_date2 = dict(zip(Mini_revenue2, Max_date2)).get(Max_reve2,\"\")\n",
    "\n",
    "\n",
    "print(\"Total Months:\", months2)\n",
    "print(\"Total Revenue:$\",revenue2)\n",
    "print(\"Average Revenue Change:\",\"$\",ave22)\n",
    "print(\"Greatest Increase in Revenue:\",ok_Max_date2,\"($\",Max_reve2,\")\")\n",
    "print(\"Greatest Decrease in Revenue\",ok_Minidate2,\"($\",Min_reve2,\")\")\n"
   ]
  },
  {
   "cell_type": "code",
   "execution_count": 110,
   "metadata": {},
   "outputs": [
    {
     "data": {
      "text/plain": [
       "{'Average Revenue Change: $': 429929,\n",
       " 'Greatest Decrease in Revenue': ['Sep-18', -1063151],\n",
       " 'Greatest Increase in Revenue:': ['Mar-18', 1141606],\n",
       " 'Total Months:': 86,\n",
       " 'Total Revenue: $': 36973911}"
      ]
     },
     "execution_count": 110,
     "metadata": {},
     "output_type": "execute_result"
    }
   ],
   "source": [
    "\n",
    "result1 = {}\n",
    "\n",
    "result1[\"Total Months:\"]= months2\n",
    "result1[\"Average Revenue Change: $\"]=ave22\n",
    "result1[\"Total Revenue: $\"]=revenue2\n",
    "result1[\"Greatest Increase in Revenue:\"]= [ok_Max_date2, Max_reve2]\n",
    "result1[\"Greatest Decrease in Revenue\"] = [ok_Minidate2, Min_reve2]\n",
    "\n",
    "result1\n",
    "\n",
    "#for item in result1.items():\n",
    " #       a, b = item\n",
    "  #      print(a,b)\n"
   ]
  },
  {
   "cell_type": "code",
   "execution_count": null,
   "metadata": {},
   "outputs": [],
   "source": [
    "\n"
   ]
  },
  {
   "cell_type": "code",
   "execution_count": null,
   "metadata": {},
   "outputs": [],
   "source": []
  },
  {
   "cell_type": "code",
   "execution_count": 223,
   "metadata": {},
   "outputs": [],
   "source": []
  },
  {
   "cell_type": "code",
   "execution_count": null,
   "metadata": {},
   "outputs": [],
   "source": []
  },
  {
   "cell_type": "code",
   "execution_count": 225,
   "metadata": {},
   "outputs": [],
   "source": []
  },
  {
   "cell_type": "code",
   "execution_count": null,
   "metadata": {},
   "outputs": [],
   "source": []
  },
  {
   "cell_type": "code",
   "execution_count": null,
   "metadata": {},
   "outputs": [],
   "source": []
  },
  {
   "cell_type": "code",
   "execution_count": null,
   "metadata": {},
   "outputs": [],
   "source": []
  },
  {
   "cell_type": "code",
   "execution_count": null,
   "metadata": {},
   "outputs": [],
   "source": []
  },
  {
   "cell_type": "code",
   "execution_count": null,
   "metadata": {},
   "outputs": [],
   "source": []
  },
  {
   "cell_type": "code",
   "execution_count": 31,
   "metadata": {},
   "outputs": [],
   "source": [
    "import pandas as pd\n",
    "import numpy as np\n",
    "df1= pd.read_csv(\"budget_data_1.csv\")\n",
    "df2= pd.read_csv(\"budget_data_2.csv\")\n",
    "mi_date = df2[\"Revenue\"] == Min_reve2\n",
    "ok2 = df2[mi_date].iloc[0]\n",
    "ok10 = list(ok2)\n"
   ]
  },
  {
   "cell_type": "code",
   "execution_count": 34,
   "metadata": {},
   "outputs": [
    {
     "data": {
      "text/plain": [
       "'Sep-18'"
      ]
     },
     "execution_count": 34,
     "metadata": {},
     "output_type": "execute_result"
    }
   ],
   "source": [
    "ok10[0]"
   ]
  },
  {
   "cell_type": "code",
   "execution_count": null,
   "metadata": {},
   "outputs": [],
   "source": []
  },
  {
   "cell_type": "code",
   "execution_count": null,
   "metadata": {},
   "outputs": [],
   "source": []
  },
  {
   "cell_type": "code",
   "execution_count": null,
   "metadata": {},
   "outputs": [],
   "source": []
  },
  {
   "cell_type": "code",
   "execution_count": null,
   "metadata": {},
   "outputs": [],
   "source": []
  },
  {
   "cell_type": "code",
   "execution_count": null,
   "metadata": {},
   "outputs": [],
   "source": []
  },
  {
   "cell_type": "code",
   "execution_count": null,
   "metadata": {},
   "outputs": [],
   "source": []
  }
 ],
 "metadata": {
  "kernelspec": {
   "display_name": "Python 3",
   "language": "python",
   "name": "python3"
  },
  "language_info": {
   "codemirror_mode": {
    "name": "ipython",
    "version": 3
   },
   "file_extension": ".py",
   "mimetype": "text/x-python",
   "name": "python",
   "nbconvert_exporter": "python",
   "pygments_lexer": "ipython3",
   "version": "3.6.4"
  }
 },
 "nbformat": 4,
 "nbformat_minor": 2
}
