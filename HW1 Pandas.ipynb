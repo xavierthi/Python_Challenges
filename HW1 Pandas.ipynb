{
 "cells": [
  {
   "cell_type": "code",
   "execution_count": 596,
   "metadata": {},
   "outputs": [
    {
     "name": "stdout",
     "output_type": "stream",
     "text": [
      "Total Months: 41\n",
      "Total Revenue: $ 18971412\n",
      "Average Revenue Change: $ 462717\n",
      "Greatest Increase in Revenue: Sep-15 ($ 1195111 )\n",
      "Greatest Decrease in Revenue Aug-14 ($ -1172384 )\n"
     ]
    }
   ],
   "source": [
    "import pandas as pd\n",
    "import numpy as np\n",
    "\n",
    "df1= pd.read_csv(\"budget_data_1.csv\")\n",
    "#df2= pd.read_csv(\"budget_data_2.csv\")\n",
    "#df1['Month'] = df1['Date'].map(lambda x: x.split(\"-\")[0])\n",
    "#df1['Year'] = df1['Date'].map(lambda x: x.split(\"-\")[1])\n",
    "months = df1[\"Date\"].count()\n",
    "revenue1= df1[\"Revenue\"].sum()\n",
    "ave= df1[\"Revenue\"].mean()\n",
    "ave1 = round(int(ave))\n",
    "Max_reve= df1[\"Revenue\"].max()\n",
    "Min_reve= df1[\"Revenue\"].min()\n",
    "\n",
    "Mini_revenue = df1['Revenue'] #.tolist()\n",
    "Max_date = df1['Date'] #.tolist()\n",
    "\n",
    "ok_Minidate = dict(zip(Mini_revenue, Max_date)).get(Min_reve,\"\")\n",
    "ok_Max_date = dict(zip(Mini_revenue, Max_date)).get(Max_reve,\"\")\n",
    "\n",
    "\n",
    "print(\"Total Months:\", months)\n",
    "print(\"Total Revenue:\",\"$\",revenue1)\n",
    "print(\"Average Revenue Change:\",\"$\",ave1)\n",
    "print(\"Greatest Increase in Revenue:\",ok_Max_date,\"($\",Max_reve,\")\")\n",
    "print(\"Greatest Decrease in Revenue\",ok_Minidate,\"($\",Min_reve,\")\")\n"
   ]
  },
  {
   "cell_type": "code",
   "execution_count": 587,
   "metadata": {},
   "outputs": [
    {
     "name": "stdout",
     "output_type": "stream",
     "text": [
      "Total Months: 41\n",
      "Average Revenue Change: $ 462717\n",
      "Total Revenue: $ 18971412\n",
      "Greatest Increase in Revenue: ['Sep-15', 1195111]\n",
      "Greatest Decrease in Revenue ['Aug-14', -1172384]\n"
     ]
    }
   ],
   "source": [
    "\n",
    "result = {}\n",
    "\n",
    "result[\"Total Months:\"]= months\n",
    "result[\"Average Revenue Change: $\"]=ave1\n",
    "result[\"Total Revenue: $\"]=revenue1\n",
    "result[\"Greatest Increase in Revenue:\"]= [ok_Max_date, Max_reve]\n",
    "result[\"Greatest Decrease in Revenue\"] = [ok_Minidate, Min_reve]\n",
    "\n",
    "result\n",
    "\n",
    "\n",
    "for item in result.items():\n",
    "        a, b = item\n",
    "        print(a,b)\n",
    "\n",
    "\n"
   ]
  },
  {
   "cell_type": "code",
   "execution_count": 52,
   "metadata": {},
   "outputs": [
    {
     "name": "stdout",
     "output_type": "stream",
     "text": [
      "Total Months: 86\n",
      "Total Revenue:$ 36973911\n",
      "Average Revenue Change: $ 429929\n",
      "Greatest Increase in Revenue: Mar-18 ($ 1141606 )\n",
      "Greatest Decrease in Revenue Sep-18 ($ -1063151 )\n"
     ]
    }
   ],
   "source": [
    "import pandas as pd\n",
    "import numpy as np\n",
    "\n",
    "#df2= pd.read_csv(\"budget_data_1.csv\")\n",
    "df2= pd.read_csv(\"budget_data_2.csv\")\n",
    "#df1['Month'] = df1['Date'].map(lambda x: x.split(\"-\")[0])\n",
    "#df1['Year'] = df1['Date'].map(lambda x: x.split(\"-\")[1])\n",
    "months2 = df2[\"Date\"].count()\n",
    "revenue2= df2[\"Revenue\"].sum()\n",
    "ave2= df2[\"Revenue\"].mean()\n",
    "ave22 = round(int(ave2))\n",
    "Max_reve2= df2[\"Revenue\"].max()\n",
    "Min_reve2= df2[\"Revenue\"].min()\n",
    "\n",
    "Mini_revenue2 = df2['Revenue'] #.tolist()\n",
    "Max_date2 = df2['Date'] #.tolist()\n",
    "\n",
    "ok_Minidate2 = dict(zip(Mini_revenue2, Max_date2)).get(Min_reve2,\"\")\n",
    "ok_Max_date2 = dict(zip(Mini_revenue2, Max_date2)).get(Max_reve2,\"\")\n",
    "\n",
    "\n",
    "print(\"Total Months:\", months2)\n",
    "print(\"Total Revenue:$\",revenue2)\n",
    "print(\"Average Revenue Change:\",\"$\",ave22)\n",
    "print(\"Greatest Increase in Revenue:\",ok_Max_date2,\"($\",Max_reve2,\")\")\n",
    "print(\"Greatest Decrease in Revenue\",ok_Minidate2,\"($\",Min_reve2,\")\")\n"
   ]
  },
  {
   "cell_type": "code",
   "execution_count": 110,
   "metadata": {},
   "outputs": [
    {
     "data": {
      "text/plain": [
       "{'Average Revenue Change: $': 429929,\n",
       " 'Greatest Decrease in Revenue': ['Sep-18', -1063151],\n",
       " 'Greatest Increase in Revenue:': ['Mar-18', 1141606],\n",
       " 'Total Months:': 86,\n",
       " 'Total Revenue: $': 36973911}"
      ]
     },
     "execution_count": 110,
     "metadata": {},
     "output_type": "execute_result"
    }
   ],
   "source": [
    "\n",
    "result1 = {}\n",
    "\n",
    "result1[\"Total Months:\"]= months2\n",
    "result1[\"Average Revenue Change: $\"]=ave22\n",
    "result1[\"Total Revenue: $\"]=revenue2\n",
    "result1[\"Greatest Increase in Revenue:\"]= [ok_Max_date2, Max_reve2]\n",
    "result1[\"Greatest Decrease in Revenue\"] = [ok_Minidate2, Min_reve2]\n",
    "\n",
    "result1\n",
    "\n",
    "#for item in result1.items():\n",
    " #       a, b = item\n",
    "  #      print(a,b)\n"
   ]
  },
  {
   "cell_type": "code",
   "execution_count": null,
   "metadata": {},
   "outputs": [],
   "source": [
    "\n"
   ]
  },
  {
   "cell_type": "code",
   "execution_count": null,
   "metadata": {},
   "outputs": [],
   "source": []
  },
  {
   "cell_type": "code",
   "execution_count": 223,
   "metadata": {},
   "outputs": [],
   "source": []
  },
  {
   "cell_type": "code",
   "execution_count": null,
   "metadata": {},
   "outputs": [],
   "source": []
  },
  {
   "cell_type": "code",
   "execution_count": 225,
   "metadata": {},
   "outputs": [],
   "source": []
  },
  {
   "cell_type": "code",
   "execution_count": null,
   "metadata": {},
   "outputs": [],
   "source": []
  },
  {
   "cell_type": "code",
   "execution_count": null,
   "metadata": {},
   "outputs": [],
   "source": []
  },
  {
   "cell_type": "code",
   "execution_count": null,
   "metadata": {},
   "outputs": [],
   "source": []
  },
  {
   "cell_type": "code",
   "execution_count": null,
   "metadata": {},
   "outputs": [],
   "source": []
  },
  {
   "cell_type": "code",
   "execution_count": null,
   "metadata": {},
   "outputs": [],
   "source": []
  },
  {
   "cell_type": "code",
   "execution_count": 31,
   "metadata": {},
   "outputs": [],
   "source": [
    "df2= pd.read_csv(\"budget_data_2.csv\")\n",
    "mi_date = df2[\"Revenue\"] == Min_reve2\n",
    "ok2 = df2[mi_date].iloc[0]\n",
    "ok10 = list(ok2)\n"
   ]
  },
  {
   "cell_type": "code",
   "execution_count": 34,
   "metadata": {},
   "outputs": [
    {
     "data": {
      "text/plain": [
       "'Sep-18'"
      ]
     },
     "execution_count": 34,
     "metadata": {},
     "output_type": "execute_result"
    }
   ],
   "source": [
    "ok10[0]"
   ]
  },
  {
   "cell_type": "code",
   "execution_count": null,
   "metadata": {},
   "outputs": [],
   "source": []
  },
  {
   "cell_type": "code",
   "execution_count": null,
   "metadata": {},
   "outputs": [],
   "source": []
  },
  {
   "cell_type": "code",
   "execution_count": null,
   "metadata": {},
   "outputs": [],
   "source": []
  },
  {
   "cell_type": "code",
   "execution_count": null,
   "metadata": {},
   "outputs": [],
   "source": []
  },
  {
   "cell_type": "code",
   "execution_count": null,
   "metadata": {},
   "outputs": [],
   "source": []
  },
  {
   "cell_type": "code",
   "execution_count": null,
   "metadata": {},
   "outputs": [],
   "source": []
  }
 ],
 "metadata": {
  "kernelspec": {
   "display_name": "Python 3",
   "language": "python",
   "name": "python3"
  },
  "language_info": {
   "codemirror_mode": {
    "name": "ipython",
    "version": 3
   },
   "file_extension": ".py",
   "mimetype": "text/x-python",
   "name": "python",
   "nbconvert_exporter": "python",
   "pygments_lexer": "ipython3",
   "version": "3.6.4"
  }
 },
 "nbformat": 4,
 "nbformat_minor": 2
}
